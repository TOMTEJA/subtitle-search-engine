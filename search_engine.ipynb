{
 "cells": [
  {
   "cell_type": "code",
   "execution_count": null,
   "metadata": {},
   "outputs": [],
   "source": [
    "import sqlite3\n",
    "import pandas as pd"
   ]
  },
  {
   "cell_type": "code",
   "execution_count": null,
   "metadata": {},
   "outputs": [],
   "source": [
    "# Read the code below and write your observation in the next cell\n",
    "conn = sqlite3.connect('subtitles_database.db')\n",
    "cursor = conn.cursor()\n",
    "cursor.execute(\"SELECT name FROM sqlite_master  WHERE type='table'\")\n",
    "print(cursor.fetchall())"
   ]
  },
  {
   "cell_type": "code",
   "execution_count": null,
   "metadata": {},
   "outputs": [],
   "source": [
    "cursor.execute(\"PRAGMA table_info('zipfiles')\")\n",
    "cols = cursor.fetchall()\n",
    "for col in cols:\n",
    "    print(col[1])"
   ]
  },
  {
   "cell_type": "code",
   "execution_count": null,
   "metadata": {},
   "outputs": [],
   "source": [
    "df = pd.read_sql_query(\"\"\"SELECT * FROM zipfiles limit 25000\"\"\", conn)\n",
    "df.head()"
   ]
  },
  {
   "cell_type": "code",
   "execution_count": null,
   "metadata": {},
   "outputs": [],
   "source": [
    "import zipfile\n",
    "import io\n",
    "\n",
    "# Assuming 'content' is the binary data from your database\n",
    "binary_data = df.iloc[385, 2]\n",
    "\n",
    "# Decompress the binary data using the zipfile module\n",
    "with io.BytesIO(binary_data) as f:\n",
    "    with zipfile.ZipFile(f, 'r') as zip_file:\n",
    "        # Reading only one file in the ZIP archive\n",
    "        subtitle_content = zip_file.read(zip_file.namelist()[0])\n",
    "\n",
    "# Now 'subtitle_content' should contain the extracted subtitle content\n",
    "print(subtitle_content.decode('latin-1'))  # Assuming the content is latin-1 encoded text\n"
   ]
  },
  {
   "cell_type": "code",
   "execution_count": null,
   "metadata": {},
   "outputs": [],
   "source": [
    "import zipfile\n",
    "import io\n",
    "\n",
    "count = 0\n",
    "\n",
    "def decode_method(binary_data):\n",
    "    global count\n",
    "    # Decompress the binary data using the zipfile module\n",
    "    # print(count, end=\" \")\n",
    "    count += 1\n",
    "    with io.BytesIO(binary_data) as f:\n",
    "        with zipfile.ZipFile(f, 'r') as zip_file:\n",
    "            # Assuming there's only one file in the ZIP archive\n",
    "            subtitle_content = zip_file.read(zip_file.namelist()[0])\n",
    "\n",
    "    # Now 'subtitle_content' should contain the extracted subtitle content\n",
    "    return subtitle_content.decode('latin-1')  # Assuming the content is UTF-8 encoded text"
   ]
  },
  {
   "cell_type": "code",
   "execution_count": null,
   "metadata": {},
   "outputs": [],
   "source": [
    "df['file_content'] = df['content'].apply(decode_method)"
   ]
  },
  {
   "cell_type": "code",
   "execution_count": null,
   "metadata": {},
   "outputs": [],
   "source": [
    "df"
   ]
  },
  {
   "cell_type": "markdown",
   "metadata": {},
   "source": [
    "remove timestamps"
   ]
  },
  {
   "cell_type": "code",
   "execution_count": null,
   "metadata": {},
   "outputs": [],
   "source": [
    "import pandas as pd\n",
    "df['file_content'] = df['file_content'].str.replace(r'\\d+:\\d+:\\d+,\\d+ --> \\d+:\\d+:\\d+,\\d+\\r\\n', '',regex=True)\n",
    "df['file_content']"
   ]
  },
  {
   "cell_type": "markdown",
   "metadata": {},
   "source": [
    "cleaning text"
   ]
  },
  {
   "cell_type": "code",
   "execution_count": null,
   "metadata": {},
   "outputs": [],
   "source": [
    "import nltk\n",
    "nltk.download('punkt')"
   ]
  },
  {
   "cell_type": "code",
   "execution_count": null,
   "metadata": {},
   "outputs": [],
   "source": [
    "import re\n",
    "import nltk\n",
    "from nltk.corpus import stopwords\n",
    "\n",
    "# Download stopwords if not already downloaded\n",
    "nltk.download('stopwords')\n",
    "\n",
    "# Function to perform text cleaning\n",
    "def clean_text(text):\n",
    "    # Convert text to lowercase\n",
    "    text = text.lower()\n",
    "    text = re.sub(r'[^a-zA-Z\\s]', '', text)\n",
    "    tokens = nltk.word_tokenize(text)\n",
    "    stop_words = set(stopwords.words('english'))\n",
    "    tokens = [token for token in tokens if token not in stop_words]\n",
    "    # Join tokens back into text\n",
    "    cleaned_text = ' '.join(tokens)\n",
    "    return cleaned_text\n",
    "\n",
    "df['file_content'] = df['file_content'].apply(clean_text)\n",
    "print(df)\n"
   ]
  },
  {
   "cell_type": "markdown",
   "metadata": {},
   "source": [
    "# bert model"
   ]
  },
  {
   "cell_type": "code",
   "execution_count": null,
   "metadata": {},
   "outputs": [],
   "source": [
    "df"
   ]
  },
  {
   "cell_type": "code",
   "execution_count": null,
   "metadata": {},
   "outputs": [],
   "source": [
    "dff = df.head(100)\n",
    "dff.to_csv('subtitle_data.csv')"
   ]
  },
  {
   "cell_type": "code",
   "execution_count": null,
   "metadata": {},
   "outputs": [],
   "source": [
    "import pandas as pd\n",
    "subtitle_content = pd.read_csv('subtitle_data.csv',index_col=0)\n",
    "subtitle_content"
   ]
  },
  {
   "cell_type": "code",
   "execution_count": null,
   "metadata": {},
   "outputs": [],
   "source": [
    "from sentence_transformers import SentenceTransformer\n",
    "import pandas as pd\n",
    "import numpy as np\n",
    "\n",
    "# Load pre-trained BERT model for sentence embeddings\n",
    "model = SentenceTransformer('bert-base-nli-mean-tokens')\n",
    "\n",
    "# Assuming 'file_content' is the column containing the text content of subtitle files\n",
    "documents = subtitle_content['file_content'].tolist()\n",
    "\n",
    "# Generate embeddings for the text content\n",
    "document_embeddings = model.encode(documents)\n",
    "print(document_embeddings)\n"
   ]
  },
  {
   "cell_type": "code",
   "execution_count": null,
   "metadata": {},
   "outputs": [],
   "source": [
    "type(document_embeddings)"
   ]
  },
  {
   "cell_type": "code",
   "execution_count": null,
   "metadata": {},
   "outputs": [],
   "source": [
    "subtitle_content"
   ]
  },
  {
   "cell_type": "code",
   "execution_count": null,
   "metadata": {},
   "outputs": [],
   "source": [
    "subtitle_data = subtitle_content[['num', 'name', 'file_content']]\n",
    "subtitle_data"
   ]
  },
  {
   "cell_type": "code",
   "execution_count": null,
   "metadata": {},
   "outputs": [],
   "source": [
    "type(subtitle_data)"
   ]
  },
  {
   "cell_type": "markdown",
   "metadata": {},
   "source": [
    "# chromadb"
   ]
  },
  {
   "cell_type": "code",
   "execution_count": null,
   "metadata": {},
   "outputs": [],
   "source": [
    "import sqlite3\n",
    "import json\n",
    "\n",
    "# Connect to SQLite database\n",
    "conn = sqlite3.connect('chroma_embeddings.db')\n",
    "cursor = conn.cursor()\n",
    "\n",
    "# Create subtitles table if not exists\n",
    "cursor.execute('''CREATE TABLE IF NOT EXISTS subtitles (\n",
    "                    num INTEGER PRIMARY KEY,\n",
    "                    name TEXT NOT NULL,\n",
    "                    file_content TEXT NOT NULL,\n",
    "                    embedding TEXT\n",
    "                )''')\n",
    "\n",
    "# Commit changes\n",
    "conn.commit()\n",
    "\n",
    "# Insert subtitle data and embeddings into the subtitles table\n",
    "for idx, row in subtitle_data.iterrows():\n",
    "    num = row['num']\n",
    "    name = row['name']\n",
    "    file_content = row['file_content']\n",
    "    embedding = json.dumps(document_embeddings[idx].tolist())  # Retrieve embedding using index\n",
    "    \n",
    "    try:\n",
    "        cursor.execute('''INSERT INTO subtitles (num, name, file_content, embedding)\n",
    "                          VALUES (?, ?, ?, ?)''', (num, name, file_content, embedding))\n",
    "    except sqlite3.IntegrityError:\n",
    "        # Handle duplicate num values here, such as skipping the insertion or updating existing rows\n",
    "        pass\n",
    "\n",
    "# Commit changes and close connection\n",
    "conn.commit()\n",
    "conn.close()\n"
   ]
  },
  {
   "cell_type": "code",
   "execution_count": null,
   "metadata": {},
   "outputs": [],
   "source": [
    "import sqlite3\n",
    "import numpy as np\n",
    "from sentence_transformers import SentenceTransformer\n",
    "from sklearn.metrics.pairwise import cosine_similarity\n",
    "import json\n",
    "\n",
    "def retrieve_documents(query, database_path):\n",
    "    # Connect to the SQLite database\n",
    "    conn = sqlite3.connect(database_path)\n",
    "    cursor = conn.cursor()\n",
    "\n",
    "    # Fetch names and embeddings from the database\n",
    "    cursor.execute('''SELECT name, embedding FROM subtitles''')\n",
    "    rows = cursor.fetchall()\n",
    "\n",
    "    # Extract names and embeddings from rows\n",
    "    document_names = [row[0] for row in rows]\n",
    "    embeddings = [np.array(json.loads(row[1])) for row in rows]\n",
    "\n",
    "    # Close the database connection\n",
    "    conn.close()\n",
    "\n",
    "    # Load the BERT model\n",
    "    model = SentenceTransformer('bert-base-nli-mean-tokens')\n",
    "\n",
    "    # Encode the query using the BERT model\n",
    "    query_embedding = model.encode([query])[0]\n",
    "\n",
    "    # Calculate cosine similarity between query embedding and document embeddings\n",
    "    similarities = cosine_similarity([query_embedding], embeddings)\n",
    "\n",
    "    # Rank documents based on similarity scores\n",
    "    ranked_indices = np.argsort(similarities[0])[::-1]  # Descending order\n",
    "\n",
    "    # Return ranked documents\n",
    "    ranked_documents = [(document_names[idx], similarities[0][idx]) for idx in ranked_indices]\n",
    "    return ranked_documents\n",
    "\n",
    "# Example usage\n",
    "query = \"search query\"\n",
    "database_path = 'chroma_embeddings.db'\n",
    "ranked_documents = retrieve_documents(query, database_path)"
   ]
  }
 ],
 "metadata": {
  "kernelspec": {
   "display_name": ".env_sql",
   "language": "python",
   "name": "python3"
  },
  "language_info": {
   "codemirror_mode": {
    "name": "ipython",
    "version": 3
   },
   "file_extension": ".py",
   "mimetype": "text/x-python",
   "name": "python",
   "nbconvert_exporter": "python",
   "pygments_lexer": "ipython3",
   "version": "3.11.8"
  }
 },
 "nbformat": 4,
 "nbformat_minor": 2
}
